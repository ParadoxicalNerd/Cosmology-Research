{
 "cells": [
  {
   "cell_type": "code",
   "execution_count": 1,
   "metadata": {},
   "outputs": [],
   "source": [
    "import pandas as pd\n",
    "import numpy as np\n",
    "import matplotlib.pyplot as plt\n",
    "import seaborn as sns\n",
    "from matplotlib.widgets import Slider\n",
    "%matplotlib inline"
   ]
  },
  {
   "cell_type": "code",
   "execution_count": 3,
   "metadata": {},
   "outputs": [
    {
     "name": "stdout",
     "output_type": "stream",
     "text": [
      "32336\n"
     ]
    },
    {
     "data": {
      "image/png": "[encoded data removed]",
      "text/plain": [
       "<Figure size 432x288 with 1 Axes>"
      ]
     },
     "metadata": {
      "needs_background": "light"
     },
     "output_type": "display_data"
    }
   ],
   "source": [
    "%matplotlib inline\n",
    "galaxies_raw=pd.read_csv('DR15_galaxies.csv',error_bad_lines=False)\n",
    "galaxies_raw=galaxies_raw.dropna(axis=0)\n",
    "print(len(galaxies_raw))\n",
    "plt.hist(galaxies_raw['redshift'],bins=200);"
   ]
  },
  {
   "cell_type": "code",
   "execution_count": 4,
   "metadata": {},
   "outputs": [
    {
     "name": "stdout",
     "output_type": "stream",
     "text": [
      "Galaxies Range Length: 500\n",
      "0.45037 0.9973055000000001\n"
     ]
    },
    {
     "name": "stderr",
     "output_type": "stream",
     "text": [
      "/home/pankaj/.local/lib/python3.6/site-packages/ipykernel_launcher.py:15: SettingWithCopyWarning: \n",
      "A value is trying to be set on a copy of a slice from a DataFrame.\n",
      "Try using .loc[row_indexer,col_indexer] = value instead\n",
      "\n",
      "See the caveats in the documentation: http://pandas.pydata.org/pandas-docs/stable/indexing.html#indexing-view-versus-copy\n",
      "  from ipykernel import kernelapp as app\n"
     ]
    }
   ],
   "source": [
    "\"\"\" \n",
    "It is assumed that the data is withen the specified range\n",
    "Yet, the range is asked from the user just to confirm\n",
    "\"\"\"\n",
    "from astropy.cosmology import Planck15 as cosmo\n",
    "# start_z=float(input(\"Input the first values of redshift to use: \"))\n",
    "# end_z=float(input(\"Input the last value of redshift to use: \"))\n",
    "# galaxies_range=galaxies_raw[galaxies_raw['redshift'].between(start_z,end_z,inclusive=True)]\n",
    "# galaxies_range=galaxies_raw.sample(500)\n",
    "galaxies_range=galaxies_raw[:500] \n",
    "#choses galaxies that are furthest away from us between red 0.45 to end\n",
    "\n",
    "print(f'Galaxies Range Length: {len(galaxies_range)}')\n",
    "print(min(galaxies_range.redshift),max(galaxies_range.redshift))\n",
    "galaxies_range['dist']=cosmo.comoving_distance(galaxies_range['redshift'])"
   ]
  },
  {
   "cell_type": "code",
   "execution_count": 40,
   "metadata": {},
   "outputs": [
    {
     "name": "stdout",
     "output_type": "stream",
     "text": [
      "500\n"
     ]
    },
    {
     "name": "stderr",
     "output_type": "stream",
     "text": [
      "/home/pankaj/.local/lib/python3.6/site-packages/ipykernel_launcher.py:40: SettingWithCopyWarning: \n",
      "A value is trying to be set on a copy of a slice from a DataFrame.\n",
      "Try using .loc[row_indexer,col_indexer] = value instead\n",
      "\n",
      "See the caveats in the documentation: http://pandas.pydata.org/pandas-docs/stable/indexing.html#indexing-view-versus-copy\n"
     ]
    },
    {
     "data": {
      "image/png": "[encoded data removed]",
      "text/plain": [
       "<Figure size 432x288 with 1 Axes>"
      ]
     },
     "metadata": {
      "needs_background": "light"
     },
     "output_type": "display_data"
    }
   ],
   "source": [
    "def find_temperatures():\n",
    "    global galaxies_range\n",
    "    \n",
    "    magnitudes = 30 - galaxies_range.loc[:,'u':'z']\n",
    "    redshifts=galaxies_range.loc[:,'redshift']\n",
    "\n",
    "    bands = {\"u\": 3450, \"g\": 4760, \"r\": 6280, \"i\": 7690, \"z\": 9250}\n",
    "\n",
    "    x = list(bands.values())\n",
    "    \n",
    "    temperatures=np.zeros(len(magnitudes))\n",
    "    \n",
    "    for i in range(len(magnitudes)):\n",
    "        y = list(magnitudes.iloc[i,:])\n",
    "        redshift=redshifts[i]        \n",
    "        \n",
    "        \n",
    "        z = np.polyfit(x, y, 2)\n",
    "        f = np.poly1d(z)\n",
    "\n",
    "        # Scipy's interpolate.interp1d function is not used because it tends\n",
    "        # to overfiit the data thereby producing incorrect temperature output\n",
    "        \n",
    "        # calculate new x's and y's\n",
    "        x_new = np.linspace(x[0], x[-1], 50)\n",
    "        y_new = f(x_new)\n",
    "\n",
    "        index = np.where(y_new == np.max(y_new))\n",
    "        lambda_max=np.float(x_new[index])\n",
    "        \n",
    "        lambda_max=lambda_max/(1+redshift)\n",
    "        \n",
    "        T=2.898*10**-3/(lambda_max*10**-10)\n",
    "        \n",
    "        temperatures[i]=T\n",
    "    \n",
    "    print(len(temperatures))\n",
    "    return temperatures\n",
    "\n",
    "galaxies_range['temperature']=find_temperatures()\n",
    "# sns.distplot(galaxies_range['temperature'],bins=50)\n",
    "plt.hist(galaxies_range['temperature'],bins=50)\n",
    "plt.xlabel('Teperature of Galaxies')\n",
    "# plt.ylabel('Probabililty')\n",
    "plt.title('The Temperature distribution of galaxies')\n",
    "plt.grid()\n",
    "pass"
   ]
  },
  {
   "cell_type": "code",
   "execution_count": 6,
   "metadata": {},
   "outputs": [
    {
     "name": "stdout",
     "output_type": "stream",
     "text": [
      "125000\n",
      "124750\n",
      "Done Execution\n"
     ]
    }
   ],
   "source": [
    "\"\"\"\n",
    "This part of the code calculates the angular_seperation\n",
    "\"\"\"\n",
    "import numpy as np\n",
    "def angular_dist(ra1, dec1, ra2, dec2,d1,d2):\n",
    "    a = np.sin(np.abs(dec1 - dec2) / 2) ** 2\n",
    "    b = np.cos(dec1) * np.cos(dec2) * (np.sin(np.abs(ra1 - ra2) / 2)) ** 2\n",
    "    d = 2 * np.arcsin(np.sqrt(a + b))\n",
    "    sep=np.sqrt(d1**2 + d2**2 - (2*d1*d2*np.cos(d)))\n",
    "    return sep\n",
    "\n",
    "\n",
    "length=len(galaxies_range)*(len(galaxies_range))//2\n",
    "print(length)\n",
    "angular_seperation = np.zeros((length-1,4))\n",
    "# indicies=galaxies_range.index\n",
    "\"\"\"\n",
    "-1:Spiral-Spiral\n",
    "0:Spiral-Elliptical\n",
    "1:Elliptical-Elliptical\n",
    "\"\"\"\n",
    "k=0\n",
    "for i in range(len(galaxies_range)-1):\n",
    "    line1=galaxies_range.iloc[i,:]\n",
    "    for j in range(i+1,len(galaxies_range)):\n",
    "        line2=galaxies_range.iloc[j,:]\n",
    "\n",
    "        angular_seperation[k,0]=np.int(line1['objid'])\n",
    "        angular_seperation[k,1]=np.int(line2['objid'])\n",
    "        angular_seperation[k,2]= angular_dist(line1['ra'], \n",
    "                        line1['dec'], \n",
    "                        line2['ra'], \n",
    "                        line2['dec'],\n",
    "                        line1['redshift'],\n",
    "                        line2['redshift'])\n",
    "#     if line1['spiral']==1 and line2['spiral']==1:\n",
    "#         spam=-1\n",
    "#     elif line2['elliptical']==1 and line2['elliptical']==1:\n",
    "#         spam=1\n",
    "#     else:\n",
    "#         spam=0\n",
    "\n",
    "        spam=np.abs(line1['temperature']-line2['temperature'])\n",
    "        angular_seperation[k,3]=spam\n",
    "        k+=1\n",
    "print(k)\n",
    "angular_seperation=angular_seperation[:k]\n",
    "difference=pd.DataFrame(angular_seperation, columns=['objid1','objid2','seperation','temperature'])\n",
    "print(\"Done Execution\")"
   ]
  },
  {
   "cell_type": "code",
   "execution_count": 41,
   "metadata": {},
   "outputs": [
    {
     "name": "stdout",
     "output_type": "stream",
     "text": [
      "115608\n"
     ]
    },
    {
     "data": {
      "image/png": "[encoded data removed]",
      "text/plain": [
       "<Figure size 432x288 with 1 Axes>"
      ]
     },
     "metadata": {
      "needs_background": "light"
     },
     "output_type": "display_data"
    }
   ],
   "source": [
    "n=250\n",
    "# ax.spines[\"top\"].set_visible(False)    \n",
    "# ax.spines[\"bottom\"].set_visible(False)    \n",
    "# ax.spines[\"right\"].set_visible(False)    \n",
    "# ax.spines[\"left\"].set_visible(False)\n",
    "# spam1,b1,spam=ax.hist(difference.temperature,bins=n, alpha=0.4, label='Real Data');\n",
    "# spam2,spam,spam=ax.hist(simulated_difference.temperature, bins=b1, alpha=0.4, label='Simulated Data');\n",
    "\n",
    "temperatuer_dffference=difference.temperature[(difference.temperature>0)&(difference.temperature<1000)]\n",
    "print(len(temperatuer_dffference))\n",
    "_=sns.distplot(temperatuer_dffference,bins=n, label='Real Data');\n",
    "plt.grid();\n",
    "plt.legend();\n",
    "plt.xlabel('Teperature Difference');\n",
    "plt.ylabel('Frequency');\n",
    "plt.title('Teperature difference of galaxies vs frequency');\n",
    "# plt.savefig(\"Temperature diff.svg\")\n",
    "data = _.get_lines()[0].get_data()\n",
    "x_data = data[0]#[np.sum(data[0] < 0) :]\n",
    "y_data = data[1]#[np.sum(data[0] < 0) :]\n",
    "df=pd.DataFrame({'Xdata':x_data,'Ydata':y_data})\n",
    "df.Ydata=df.Ydata/np.max(df.Ydata)\n",
    "df.to_csv('RealValues.csv', index=False)\n",
    "# plt.plot(df.Xdata,df.Ydata)"
   ]
  },
  {
   "cell_type": "code",
   "execution_count": 21,
   "metadata": {},
   "outputs": [
    {
     "data": {
      "image/png": "[encoded data removed]",
      "text/plain": [
       "<Figure size 432x288 with 1 Axes>"
      ]
     },
     "metadata": {
      "needs_background": "light"
     },
     "output_type": "display_data"
    }
   ],
   "source": [
    "{\n",
    "    \"tags\": [\n",
    "        \"hide_input\",\n",
    "    ]\n",
    "}\n",
    "n=250\n",
    "# sns.distplot(difference[difference['temperature']<600].temperature, kde=True, bins=n);\n",
    "# print(f\"Optimal number of bins {sns.distributions._freedman_diaconis_bins(difference[difference['temperature']<600].temperature)}\")\n",
    "# print(f\"Current number of bins {n}\")\n",
    "_=plt.hist(difference.temperature,bins=n);\n",
    "      \n",
    "# heights=_[0]\n",
    "# widths=np.average(np.hstack([_[1][:-1][None].T, _[1][1:][None].T]),axis=1)\n",
    "\n",
    "\n",
    "# plt.hlines(np.average(heights),xmin=min(_[1]), xmax=max(_[1]))\n",
    "\n",
    "# widths,heights=widths[heights>np.average(heights)],heights[heights>np.average(heights)]\n",
    "\n",
    "# value=np.mean(np.diff(np.hstack([_[1][:-1][None].T, _[1][1:][None].T]),axis=0))\n",
    "# idx=np.insert(np.diff(np.hstack([widths[:-1][None].T, widths[1:][None].T]),axis=1)>value,0,True)\n",
    "# # print(idx)\n",
    "\n",
    "# widths=widths[idx]\n",
    "# heights=heights[idx]\n",
    "\n",
    "# # plt.scatter(widths,heights,marker='x',c='r')\n",
    "\n",
    "# # x_smooth = np.linspace(min(widths), max(widths), 200)\n",
    "# z = np.polyfit(widths, heights, 5)\n",
    "# f = np.poly1d(z)\n",
    "\n",
    "# # calculate new x's and y's\n",
    "# x_new = np.linspace(0, 500, 50)\n",
    "# y_new = f(x_new)\n",
    "\n",
    "# plt.plot(x_new,y_new)\n",
    "plt.grid()\n",
    "plt.xlabel('Teperature Difference')\n",
    "plt.ylabel('Frequency')\n",
    "plt.title('Teperature difference of galaxies vs frequency')\n",
    "plt.xlim((0,2500))\n",
    "pass\n",
    "# plt.savefig('temp_difference_freq.svg', bbox_inches='tight')"
   ]
  },
  {
   "cell_type": "code",
   "execution_count": 362,
   "metadata": {},
   "outputs": [
    {
     "name": "stderr",
     "output_type": "stream",
     "text": [
      "/home/idies/miniconda3/lib/python3.6/site-packages/ipykernel_launcher.py:16: UserWarning: Pandas doesn't allow columns to be created via a new attribute name - see https://pandas.pydata.org/pandas-docs/stable/indexing.html#attribute-access\n",
      "  app.launch_new_instance()\n"
     ]
    },
    {
     "data": {
      "image/png": "[encoded data removed]",
      "text/plain": [
       "<Figure size 432x288 with 1 Axes>"
      ]
     },
     "metadata": {
      "needs_background": "light"
     },
     "output_type": "display_data"
    }
   ],
   "source": [
    "from astropy.cosmology import Planck15 as cosmo\n",
    "simulated_galaxies=pd.DataFrame([],columns=['ra','dec','redshift','temperature'])\n",
    "simulated_galaxies.temperature=np.random.normal(np.mean(galaxies_range.temperature)\n",
    "                                                ,np.std(galaxies_range.temperature)\n",
    "                                                ,len(galaxies_range.temperature))\n",
    "simulated_galaxies.ra=np.random.uniform(np.min(galaxies_range.ra),\n",
    "                                       np.max(galaxies_range.ra),\n",
    "                                       len(galaxies_range.ra))\n",
    "simulated_galaxies.dec=np.random.uniform(np.min(galaxies_range.dec),\n",
    "                                       np.max(galaxies_range.dec),\n",
    "                                       len(galaxies_range.dec))\n",
    "simulated_galaxies.redshift=np.random.uniform(np.min(galaxies_range.redshift),\n",
    "                                       np.max(galaxies_range.redshift),\n",
    "                                       len(galaxies_range.redshift))\n",
    "\n",
    "simulated_galaxies.dist=cosmo.comoving_distance(simulated_galaxies.redshift)\n",
    "plt.hist(simulated_galaxies.dist.value);"
   ]
  },
  {
   "cell_type": "code",
   "execution_count": 363,
   "metadata": {},
   "outputs": [
    {
     "name": "stdout",
     "output_type": "stream",
     "text": [
      "125000\n",
      "124750\n",
      "Done Execution\n"
     ]
    }
   ],
   "source": [
    "\"\"\"\n",
    "This part of the code calculates the angular_seperation\n",
    "\"\"\"\n",
    "import numpy as np\n",
    "def angular_dist(ra1, dec1, ra2, dec2,d1,d2):\n",
    "    a = np.sin(np.abs(dec1 - dec2) / 2) ** 2\n",
    "    b = np.cos(dec1) * np.cos(dec2) * (np.sin(np.abs(ra1 - ra2) / 2)) ** 2\n",
    "    d = 2 * np.arcsin(np.sqrt(a + b))\n",
    "    sep=np.sqrt(d1**2 + d2**2 - (2*d1*d2*np.cos(d)))\n",
    "    return sep\n",
    "\n",
    "\n",
    "length=len(simulated_galaxies)*(len(simulated_galaxies))//2\n",
    "print(length)\n",
    "sim_angular_seperation = np.zeros((length-1,2))\n",
    "\n",
    "k=0\n",
    "for i in range(len(simulated_galaxies)-1):\n",
    "    line1=simulated_galaxies.iloc[i,:]\n",
    "    for j in range(i+1,len(simulated_galaxies)):\n",
    "        line2=simulated_galaxies.iloc[j,:]\n",
    "\n",
    "        sim_angular_seperation[k,0]= angular_dist(line1['ra'], \n",
    "                        line1['dec'], \n",
    "                        line2['ra'], \n",
    "                        line2['dec'],\n",
    "                        line1['redshift'],\n",
    "                        line2['redshift'])\n",
    "        spam=np.abs(line1['temperature']-line2['temperature'])\n",
    "        sim_angular_seperation[k,1]=spam\n",
    "        k+=1\n",
    "print(k)\n",
    "sim_angular_seperation=sim_angular_seperation[:k]\n",
    "simulated_difference=pd.DataFrame(sim_angular_seperation, columns=['seperation','temperature'])\n",
    "print(\"Done Execution\")"
   ]
  }
 ],
 "metadata": {
  "kernelspec": {
   "display_name": "Python 3",
   "language": "python",
   "name": "python3"
  },
  "language_info": {
   "codemirror_mode": {
    "name": "ipython",
    "version": 3
   },
   "file_extension": ".py",
   "mimetype": "text/x-python",
   "name": "python",
   "nbconvert_exporter": "python",
   "pygments_lexer": "ipython3",
   "version": "3.6.8"
  }
 },
 "nbformat": 4,
 "nbformat_minor": 2
}